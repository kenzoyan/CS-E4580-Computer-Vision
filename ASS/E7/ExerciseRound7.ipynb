{
 "cells": [
  {
   "cell_type": "code",
   "execution_count": 1,
   "metadata": {},
   "outputs": [
    {
     "data": {
      "text/html": [
       "<script>\n",
       "code_show=true;\n",
       "function code_toggle() {\n",
       "if (code_show){\n",
       "$('div.input').hide();\n",
       "} else {\n",
       "$('div.input').show();\n",
       "}\n",
       "code_show = !code_show\n",
       "}\n",
       "$( document ).ready(code_toggle);\n",
       "</script>\n",
       "<form action=\"javascript:code_toggle()\"><input type=\"submit\" value=\"Click here to toggle on/off the raw code.\"></form>"
      ],
      "text/plain": [
       "<IPython.core.display.HTML object>"
      ]
     },
     "execution_count": 1,
     "metadata": {},
     "output_type": "execute_result"
    }
   ],
   "source": [
    "# This cell is used for creating a button that hides/unhides code cells to quickly look only the results.\n",
    "# Works only with Jupyter Notebooks.\n",
    "\n",
    "import os\n",
    "from IPython.display import HTML\n",
    "\n",
    "HTML('''<script>\n",
    "code_show=true;\n",
    "function code_toggle() {\n",
    "if (code_show){\n",
    "$('div.input').hide();\n",
    "} else {\n",
    "$('div.input').show();\n",
    "}\n",
    "code_show = !code_show\n",
    "}\n",
    "$( document ).ready(code_toggle);\n",
    "</script>\n",
    "<form action=\"javascript:code_toggle()\"><input type=\"submit\" value=\"Click here to toggle on/off the raw code.\"></form>''')"
   ]
  },
  {
   "cell_type": "code",
   "execution_count": 2,
   "metadata": {},
   "outputs": [
    {
     "name": "stdout",
     "output_type": "stream",
     "text": [
      "The data directory is /coursedata\n",
      "Data stored in /coursedata/exercise-07-data\n"
     ]
    }
   ],
   "source": [
    "# Description:\n",
    "#   Exercise7 notebook.\n",
    "#\n",
    "# Copyright (C) 2018 Santiago Cortes, Juha Ylioinas\n",
    "#\n",
    "# This software is distributed under the GNU General Public \n",
    "# Licence (version 2 or later); please refer to the file \n",
    "# Licence.txt, included with the software, for details.\n",
    "\n",
    "# Preparations\n",
    "import numpy as np\n",
    "\n",
    "# Select data directory\n",
    "if os.path.isdir('/coursedata'):\n",
    "    # JupyterHub\n",
    "    course_data_dir = '/coursedata'\n",
    "elif os.path.isdir('../../../coursedata'):\n",
    "    # Local installation\n",
    "    course_data_dir = '../../../coursedata'\n",
    "else:\n",
    "    # Docker\n",
    "    course_data_dir = '/home/jovyan/work/coursedata/'\n",
    "\n",
    "print('The data directory is %s' % course_data_dir)\n",
    "data_dir = os.path.join(course_data_dir, 'exercise-07-data')\n",
    "print('Data stored in %s' % data_dir)"
   ]
  },
  {
   "cell_type": "markdown",
   "metadata": {},
   "source": [
    "# CS-E4850 Computer Vision Exercise Round 7\n",
    "The problems should be solved before the exercise session and solutions returned via\n",
    "MyCourses. <br><br> For this exercise round, upload this notebook(pdf and .ipynb versions) containing your source codes (for Exercise 1) and your answer to the question of Exercise2, and all the answers to the questions of Exercise 3 (VGG practical), see part[1-3].ipynb. Note that it's not necessary to upload part1.ipynb, part2.ipynb or part3.ipynb, because all of the necessary questions related to them are contained in this notebook and you're not expected to do any coding in Exercises 2 and 3."
   ]
  },
  {
   "cell_type": "markdown",
   "metadata": {},
   "source": [
    "## Exercise 1 - Comparing  bags-of-words  with  tf-idf  weighting\n",
    "Assume  that  we  have  an  indexed  collection  of  documents  containing  the  five  terms  of the following table where the second row indicates the percentage of documents in which each term appears.<br>\n",
    "\n",
    "| term | cat | dog |mammals | mouse | pet |\n",
    "| --- | :---: | :---: | :---: | :---: | :---: |\n",
    "| **% of documents** | 5 | 20 | 2 | 10 | 60 |\n",
    "\n",
    "Now, given the query $Q=\\{mouse, cat, pet, mammals\\}$, compute the similarity between $Q$ and the following example documents $D1$, $D2$, $D3$, by using the cosine similarity measure and tf-idf weights (i.e. term frequency - inverse document frequency) for the bag-of-words histogram representations of the documents and the query.\n",
    "\n",
    "-  $D1$ = Cat is a pet, dog is a pet, and mouse may be a pet too.\n",
    "-  $D2$ = Cat, dog and mouse are all mammals.\n",
    "-  $D3$ = Cat and dog get along well, but cat may eat a mouse.\n",
    "\n",
    "Ignore other words except the five terms. You may proceed with the following steps:\n",
    "\n",
    "a) Compute and report the inverse document frequency (idf) for each of the five terms. Use the logarithm with base 2. (idf is the logarithm on slide 69 of Lecture 6.)<br>\n",
    "b) Compute the term frequencies for the query and each document. <br>\n",
    "c) Form the tf-idf weighted word occurrence histograms for the query and documents. <br>\n",
    "d) Evaluate the cosine similarity between the query and each document (i.e.\\ normalized scalar product between the weighted occurrence histograms as shown on slide 45).<br> \n",
    "e) Report the relative ranking of the documents. (You should get similarities 0.95, 0.64, and 0.63, but you need to determine which corresponds to which document.)<br>"
   ]
  },
  {
   "cell_type": "code",
   "execution_count": 39,
   "metadata": {},
   "outputs": [],
   "source": [
    "import math\n",
    "import collections\n",
    "import pandas as pd\n",
    "import matplotlib.pyplot as plt"
   ]
  },
  {
   "cell_type": "code",
   "execution_count": 69,
   "metadata": {},
   "outputs": [
    {
     "name": "stdout",
     "output_type": "stream",
     "text": [
      "[4.32192809 2.32192809 5.64385619 3.32192809 0.73696559]\n",
      "      cat     dog  mammals   mouse   pet\n",
      "0  0.2500  0.0000   0.2500  0.2500  0.25\n",
      "1  0.0667  0.0667   0.0000  0.0667  0.20\n",
      "2  0.1429  0.1429   0.1429  0.1429  0.00\n",
      "3  0.1667  0.0833   0.0000  0.0833  0.00\n"
     ]
    }
   ],
   "source": [
    "## Comparing  bags-of-words  with  tf-idf  weighting\n",
    "##--your-code-starts-here--##\n",
    "\n",
    "# terms={\"cat\":0.05,\"dog\":0.2,\"mammals\":0.02,\"mouse\":0.01,\"pet\":0.6}\n",
    "terms=[0.05,0.2,0.02,0.1,0.6]\n",
    "idf=np.array([math.log((1.0/i),2) for i in terms])\n",
    "\n",
    "\n",
    "print(idf)\n",
    "\n",
    "\n",
    "words=[\"cat\",\"dog\",\"mammals\",\"mouse\",\"pet\"]\n",
    "\n",
    "q=\"cat mammals mouse pet\"\n",
    "d1=\"cat is a pet dog is a pet and mouse may be a pet too\"\n",
    "d2= \"cat dog and mouse are all mammals\"\n",
    "d3 = \"cat and dog get along well but cat may eat a mouse\"\n",
    "\n",
    "def computeTF(text):\n",
    "    w=text.split()\n",
    "    counts=len(w)\n",
    "    dicts=collections.Counter(w)\n",
    "#     print(counts)\n",
    "#     print(dicts)\n",
    "    tf=[]\n",
    "    for i in words:\n",
    "        tf.append(round((dicts[i]/float(counts)),4))\n",
    "        \n",
    "    return np.array(tf)\n",
    "        \n",
    "tfs=np.concatenate((computeTF(q),computeTF(d1),computeTF(d2),computeTF(d3))).reshape((-1,5))\n",
    "# print(tfs)\n",
    "\n",
    "tf_df=pd.DataFrame(tfs,columns=[\"cat\",\"dog\",\"mammals\",\"mouse\",\"pet\"])\n",
    "print(tf_df)\n",
    "\n",
    "##--your-code-ends-here--##"
   ]
  },
  {
   "cell_type": "code",
   "execution_count": 70,
   "metadata": {},
   "outputs": [
    {
     "data": {
      "image/png": "[encoded data removed]",
      "text/plain": [
       "<Figure size 432x288 with 1 Axes>"
      ]
     },
     "metadata": {
      "needs_background": "light"
     },
     "output_type": "display_data"
    }
   ],
   "source": [
    "tfidf=[]\n",
    "\n",
    "tfidf.append(np.array(tf_df.cat)*idf[0])\n",
    "tfidf.append(np.array(tf_df.dog)*idf[1])\n",
    "tfidf.append(np.array(tf_df.mammals)*idf[2])\n",
    "tfidf.append(np.array(tf_df.mouse)*idf[3])\n",
    "tfidf.append(np.array(tf_df.pet)*idf[4])\n",
    "\n",
    "\n",
    "tfidf=np.array(tfidf)\n",
    "\n",
    "docslabel=['q','d1','d2','d3']\n",
    "\n",
    "size = 4\n",
    "index = np.arange(size)\n",
    "total_width, n = 0.8, 5\n",
    "width = total_width / n\n",
    "index = index - (total_width - width) / 2\n",
    "\n",
    "fig = plt.figure()\n",
    "for i in range(5):\n",
    "    if i==2:\n",
    "        plt.bar(index+i*width, tfidf[i], width=width, label=words[i], tick_label=docslabel)\n",
    "    else:\n",
    "        plt.bar(index+i*width, tfidf[i], width=width, label=words[i])\n",
    "plt.legend()\n",
    "plt.show()\n"
   ]
  },
  {
   "cell_type": "code",
   "execution_count": 71,
   "metadata": {},
   "outputs": [
    {
     "data": {
      "text/plain": [
       "array([[1.08048202, 0.2882726 , 0.61760352, 0.72046541],\n",
       "       [0.        , 0.1548726 , 0.33180352, 0.19341661],\n",
       "       [1.41096405, 0.        , 0.80650705, 0.        ],\n",
       "       [0.83048202, 0.2215726 , 0.47470352, 0.27671661],\n",
       "       [0.1842414 , 0.14739312, 0.        , 0.        ]])"
      ]
     },
     "execution_count": 71,
     "metadata": {},
     "output_type": "execute_result"
    }
   ],
   "source": [
    "tfidf"
   ]
  },
  {
   "cell_type": "code",
   "execution_count": 72,
   "metadata": {},
   "outputs": [
    {
     "name": "stdout",
     "output_type": "stream",
     "text": [
      "Similarities Rank: [1 2 0]\n",
      "Similarities: [0.95469481 0.64317528 0.62890671]\n"
     ]
    }
   ],
   "source": [
    "def Similarity(q,docs):\n",
    "    evaluation=np.array([np.sum(q*d)/(np.sqrt(np.sum(q**2))*np.sqrt(np.sum(d**2))) for d in docs])\n",
    "    srtArg= np.argsort(evaluation)[::-1]\n",
    "    srt = np.sort(evaluation)[::-1]\n",
    "    return [srtArg,srt]\n",
    "\n",
    "similarity = evaluateSimilarity(tfidf.T[0],tfidf.T[1:4,])\n",
    "\n",
    "print('Similarities Rank:',similarity[0])\n",
    "print('Similarities:',similarity[1])"
   ]
  },
  {
   "cell_type": "markdown",
   "metadata": {},
   "source": [
    "## The similarities are [0.95469481 0.64317528 0.62890671] in the log base of 2\n",
    "\n",
    "## The ranks of docs are 2 3 1"
   ]
  },
  {
   "cell_type": "markdown",
   "metadata": {},
   "source": [
    "## Exercise 2 - Precision  and  recall\n",
    "There is a database of 10000 images and a user, who is only interested in images which contain a car. It is known that there are 500 such images in the database. An  automatic image retrieval system retrieves 300 car images and 50 other images from the database. Determine and report the precision and recall of the retrieval  system in this particularcase."
   ]
  },
  {
   "cell_type": "markdown",
   "metadata": {},
   "source": [
    "Type your answer here:\n",
    "\n",
    "Precision=TP/(TP+FP)=$300/500=0.6$\n",
    "\n",
    "Recall=TP/(TP+TF)=$300/(300+50)=0.857$"
   ]
  },
  {
   "cell_type": "markdown",
   "metadata": {},
   "source": [
    "## Exercise 3 - VGG practical on object instance recognition\n",
    "See the questions in part[1-3].ipynb and write your answers here.\n",
    "\n",
    "Part1:\n",
    "Stage I.A (two questions)\n",
    "Stage I.B (two questions)\n",
    "Stage I.C (one question)\n",
    "\n",
    "Part2 (one question)\n",
    "\n",
    "Part3:\n",
    "Stage III.A (three questions)\n",
    "Stage III.B (one question)\n",
    "Stage III.C (two questions)"
   ]
  },
  {
   "cell_type": "markdown",
   "metadata": {},
   "source": [
    "Type your answers here: \n",
    "\n",
    "# Part1\n",
    "\n",
    "## A1: \n",
    "### Becasue there is an area of shade in the left side of the second picture, causes the different density of detections. we find key points in pictures through calculation of guassian difference in SITF, mainly focusing on features like edges of bulidings and windows. So the shade didn't influential affect the matching.\n",
    "## A2\n",
    "### The keypoint orientation is determined from the local image appearance and is covariant to image rotations. Depending on the symmetry of the keypoint appearance, determining the orientation can be ambiguous. When the image feature is not on one single plane, Unrealistic results may be calculated by guassian function. \n",
    "\n",
    "## B1\n",
    "###  The descriptors is highly distinctive and invariant as possible to variations such as changes in viewpoint and illumination. To do this, a 16x16 window around the keypoint is taken. It is divided into 16 sub-blocks of 4x4 size. For each sub-block, 8 bin orientation histogram is created, so 4 X 4 descriptors over 16 X 16 sample array were used in practice. It is represented as a feature vector to form keypoint descriptor. Thus the descriptors are computed over a much larger region than the detection.\n",
    "## B2\n",
    "### I think lighting is not a problem here,because in SITF The result is highly distinctive and invariant as possible to variations such as changes in viewpoint and illumination as mentioned before. The reason of mismatch I think is too many high dimensional features at one time.\n",
    "\n",
    "## C1\n",
    "### RANSAC-like algorithm for geometric verification can be used in improving the mismatch in Section D. After this algorithm the inliers are consistent with the transformation and are retained, and most mismatches should now be removed.\n",
    "\n",
    "# Part2\n",
    "\n",
    "# Part3\n",
    "## A1\n",
    "\n",
    "## A2\n",
    "### because the time required to convert the descriptors into visual words can be precomputed for the images in database, so they don't account into total time.\n",
    "## A3\n",
    "\n",
    "## B1\n",
    "### There are 25 images counted in the result. The score is 1 because the qury image is the same as the first image.\n",
    "## C1\n",
    "### In code we can see newScore = len(inliers_word), the score are number of inliners_word.\n",
    "## C2\n",
    "\n",
    "### the dismatching images like different buildings and tourists now receive lower scores, so I think the results improved after geometric verification."
   ]
  },
  {
   "cell_type": "code",
   "execution_count": null,
   "metadata": {},
   "outputs": [],
   "source": []
  }
 ],
 "metadata": {
  "kernelspec": {
   "display_name": "Python 3",
   "language": "python",
   "name": "python3"
  },
  "language_info": {
   "codemirror_mode": {
    "name": "ipython",
    "version": 3
   },
   "file_extension": ".py",
   "mimetype": "text/x-python",
   "name": "python",
   "nbconvert_exporter": "python",
   "pygments_lexer": "ipython3",
   "version": "3.7.8"
  }
 },
 "nbformat": 4,
 "nbformat_minor": 4
}
